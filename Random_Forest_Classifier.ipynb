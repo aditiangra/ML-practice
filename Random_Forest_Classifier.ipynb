{
  "nbformat": 4,
  "nbformat_minor": 0,
  "metadata": {
    "colab": {
      "name": "Random_Forest_Classifier.ipynb",
      "provenance": [],
      "collapsed_sections": [],
      "include_colab_link": true
    },
    "kernelspec": {
      "name": "python3",
      "display_name": "Python 3"
    }
  },
  "cells": [
    {
      "cell_type": "markdown",
      "metadata": {
        "id": "view-in-github",
        "colab_type": "text"
      },
      "source": [
        "<a href=\"https://colab.research.google.com/github/khushboogupta13/Basic-ML-Algorithms/blob/master/Random_Forest_Classifier.ipynb\" target=\"_parent\"><img src=\"https://colab.research.google.com/assets/colab-badge.svg\" alt=\"Open In Colab\"/></a>"
      ]
    },
    {
      "cell_type": "markdown",
      "metadata": {
        "id": "tFzBcOuzq8LI"
      },
      "source": [
        "Objective: Implement a Random Forest Classifier to classify the Iris species"
      ]
    },
    {
      "cell_type": "markdown",
      "metadata": {
        "id": "SZN1iOXHk88z"
      },
      "source": [
        "Method: Random Forest consists of a large number of individual decision trees. Each individual tree in the Random Forest gives a class prediction and the class with the most votes becomes the model’s final prediction \n",
        "\n",
        "<img src= \"https://miro.medium.com/max/450/1*VHDtVaDPNepRglIAv72BFg.jpeg\" width=\"300\"/>"
      ]
    },
    {
      "cell_type": "markdown",
      "metadata": {
        "id": "O52ROC8dpTVc"
      },
      "source": [
        "Dataset: The Iris Dataset contains four features (length and width of sepals and petals) of 50 samples of three species of Iris (Iris setosa, Iris virginica and Iris versicolor)"
      ]
    },
    {
      "cell_type": "code",
      "metadata": {
        "id": "X-Kq3SSo1uIc"
      },
      "source": [
        "#Import packages and load the dataset\n",
        "import numpy as np\n",
        "import pandas as pd\n",
        "import matplotlib.pyplot as plt\n",
        "import seaborn as sns\n",
        "from sklearn import datasets\n",
        "from sklearn.datasets import load_iris\n"
      ],
      "execution_count": null,
      "outputs": []
    },
    {
      "cell_type": "code",
      "metadata": {
        "id": "X9F-pvID9F2S"
      },
      "source": [
        "# sklearn provides the Iris species (i.e. 'target' below) as integer values as this is helpful for classification\n",
        "#write your code to load iris dataset and load into data frame\n",
        "data = load_iris()\n",
        "df = pd.DataFrame(data.data, columns=data.feature_names)\n",
        "df['target']=data.target"
      ],
      "execution_count": null,
      "outputs": []
    },
    {
      "cell_type": "code",
      "metadata": {
        "id": "lpjcylhc169p",
        "outputId": "3e3c966c-4859-417d-e8e8-4e6015135134",
        "colab": {
          "base_uri": "https://localhost:8080/",
          "height": 204
        }
      },
      "source": [
        "df.head()"
      ],
      "execution_count": null,
      "outputs": [
        {
          "output_type": "execute_result",
          "data": {
            "text/html": [
              "<div>\n",
              "<style scoped>\n",
              "    .dataframe tbody tr th:only-of-type {\n",
              "        vertical-align: middle;\n",
              "    }\n",
              "\n",
              "    .dataframe tbody tr th {\n",
              "        vertical-align: top;\n",
              "    }\n",
              "\n",
              "    .dataframe thead th {\n",
              "        text-align: right;\n",
              "    }\n",
              "</style>\n",
              "<table border=\"1\" class=\"dataframe\">\n",
              "  <thead>\n",
              "    <tr style=\"text-align: right;\">\n",
              "      <th></th>\n",
              "      <th>sepal length (cm)</th>\n",
              "      <th>sepal width (cm)</th>\n",
              "      <th>petal length (cm)</th>\n",
              "      <th>petal width (cm)</th>\n",
              "      <th>target</th>\n",
              "    </tr>\n",
              "  </thead>\n",
              "  <tbody>\n",
              "    <tr>\n",
              "      <th>0</th>\n",
              "      <td>5.1</td>\n",
              "      <td>3.5</td>\n",
              "      <td>1.4</td>\n",
              "      <td>0.2</td>\n",
              "      <td>0</td>\n",
              "    </tr>\n",
              "    <tr>\n",
              "      <th>1</th>\n",
              "      <td>4.9</td>\n",
              "      <td>3.0</td>\n",
              "      <td>1.4</td>\n",
              "      <td>0.2</td>\n",
              "      <td>0</td>\n",
              "    </tr>\n",
              "    <tr>\n",
              "      <th>2</th>\n",
              "      <td>4.7</td>\n",
              "      <td>3.2</td>\n",
              "      <td>1.3</td>\n",
              "      <td>0.2</td>\n",
              "      <td>0</td>\n",
              "    </tr>\n",
              "    <tr>\n",
              "      <th>3</th>\n",
              "      <td>4.6</td>\n",
              "      <td>3.1</td>\n",
              "      <td>1.5</td>\n",
              "      <td>0.2</td>\n",
              "      <td>0</td>\n",
              "    </tr>\n",
              "    <tr>\n",
              "      <th>4</th>\n",
              "      <td>5.0</td>\n",
              "      <td>3.6</td>\n",
              "      <td>1.4</td>\n",
              "      <td>0.2</td>\n",
              "      <td>0</td>\n",
              "    </tr>\n",
              "  </tbody>\n",
              "</table>\n",
              "</div>"
            ],
            "text/plain": [
              "   sepal length (cm)  sepal width (cm)  ...  petal width (cm)  target\n",
              "0                5.1               3.5  ...               0.2       0\n",
              "1                4.9               3.0  ...               0.2       0\n",
              "2                4.7               3.2  ...               0.2       0\n",
              "3                4.6               3.1  ...               0.2       0\n",
              "4                5.0               3.6  ...               0.2       0\n",
              "\n",
              "[5 rows x 5 columns]"
            ]
          },
          "metadata": {
            "tags": []
          },
          "execution_count": 13
        }
      ]
    },
    {
      "cell_type": "markdown",
      "metadata": {
        "id": "gOE9iLgCprZ4"
      },
      "source": [
        "Split data into training and testing sets"
      ]
    },
    {
      "cell_type": "code",
      "metadata": {
        "id": "LwY1rkw0vZLv"
      },
      "source": [
        "from sklearn.model_selection import train_test_split\n",
        "x_train,x_test,y_train,y_test = train_test_split(df[data.feature_names],data['target'])"
      ],
      "execution_count": null,
      "outputs": []
    },
    {
      "cell_type": "markdown",
      "metadata": {
        "id": "gOXyVhEEp6TU"
      },
      "source": [
        "Make an instance of the RandomForestClassifier Model"
      ]
    },
    {
      "cell_type": "code",
      "metadata": {
        "id": "nhbz2NtedO65"
      },
      "source": [
        "# write your Code Here \n",
        "# n_estimators = 100\n",
        "#random_state any integer number\n",
        "from sklearn.ensemble import RandomForestClassifier\n",
        "rf = RandomForestClassifier(n_estimators = 100, random_state=0)\n"
      ],
      "execution_count": null,
      "outputs": []
    },
    {
      "cell_type": "markdown",
      "metadata": {
        "id": "yOI-S7XbqBC2"
      },
      "source": [
        "Train the Model on the Data"
      ]
    },
    {
      "cell_type": "code",
      "metadata": {
        "id": "WwZVLFgEdUxo"
      },
      "source": [
        "rf = rf.fit(x_train, y_train)"
      ],
      "execution_count": null,
      "outputs": []
    },
    {
      "cell_type": "markdown",
      "metadata": {
        "id": "iswjbXIgqGHP"
      },
      "source": [
        "Predict the Labels of Test Data and the Accuracy score"
      ]
    },
    {
      "cell_type": "code",
      "metadata": {
        "id": "q_uyA7utda_Q",
        "outputId": "c8d0639f-e9ca-4b51-d6fe-7ceff9a291fc",
        "colab": {
          "base_uri": "https://localhost:8080/",
          "height": 34
        }
      },
      "source": [
        "# write your code here\n",
        "from sklearn.metrics import accuracy_score\n",
        "y_predict = rf.predict(x_test)\n",
        "accuracy = accuracy_score(y_test,y_predict)\n",
        "print(\"Accuracy is:\",accuracy)"
      ],
      "execution_count": null,
      "outputs": [
        {
          "output_type": "stream",
          "text": [
            "Accuracy is: 0.9736842105263158\n"
          ],
          "name": "stdout"
        }
      ]
    }
  ]
}