{
  "nbformat": 4,
  "nbformat_minor": 0,
  "metadata": {
    "colab": {
      "name": "linearregression.ipynb",
      "provenance": [],
      "collapsed_sections": [],
      "authorship_tag": "ABX9TyOcmbSk3RMS0lc60ruIcDEl",
      "include_colab_link": true
    },
    "kernelspec": {
      "name": "python3",
      "display_name": "Python 3"
    }
  },
  "cells": [
    {
      "cell_type": "markdown",
      "metadata": {
        "id": "view-in-github",
        "colab_type": "text"
      },
      "source": [
        "<a href=\"https://colab.research.google.com/github/khushboogupta13/Basic-ML-Algorithms/blob/master/linearregression.ipynb\" target=\"_parent\"><img src=\"https://colab.research.google.com/assets/colab-badge.svg\" alt=\"Open In Colab\"/></a>"
      ]
    },
    {
      "cell_type": "code",
      "metadata": {
        "id": "FKeLK3CVaSgt",
        "colab_type": "code",
        "colab": {
          "base_uri": "https://localhost:8080/",
          "height": 282
        },
        "outputId": "106787b7-e559-44dc-dabf-7e9b7cb22110"
      },
      "source": [
        "import numpy as np\n",
        "import pandas as pd\n",
        "import matplotlib.pyplot as plt\n",
        "from sklearn.datasets import make_regression\n",
        "bias=100\n",
        "x,y,coef = make_regression(n_features=1,n_samples=100,coef=True,bias=100,noise=10,random_state=42)\n",
        "plt.scatter(x,y)\n"
      ],
      "execution_count": 42,
      "outputs": [
        {
          "output_type": "execute_result",
          "data": {
            "text/plain": [
              "<matplotlib.collections.PathCollection at 0x7f94278aba90>"
            ]
          },
          "metadata": {
            "tags": []
          },
          "execution_count": 42
        },
        {
          "output_type": "display_data",
          "data": {
            "image/png": "[encoded data removed]",
            "text/plain": [
              "<Figure size 432x288 with 1 Axes>"
            ]
          },
          "metadata": {
            "tags": [],
            "needs_background": "light"
          }
        }
      ]
    },
    {
      "cell_type": "code",
      "metadata": {
        "id": "QAqRcwPNaiQc",
        "colab_type": "code",
        "colab": {
          "base_uri": "https://localhost:8080/",
          "height": 34
        },
        "outputId": "47359e9e-0452-4adb-96f1-dcc733c9f9e3"
      },
      "source": [
        "coef\n"
      ],
      "execution_count": 13,
      "outputs": [
        {
          "output_type": "execute_result",
          "data": {
            "text/plain": [
              "array(97.28780712)"
            ]
          },
          "metadata": {
            "tags": []
          },
          "execution_count": 13
        }
      ]
    },
    {
      "cell_type": "code",
      "metadata": {
        "id": "asZf81KObWub",
        "colab_type": "code",
        "colab": {}
      },
      "source": [
        "y_gen = x*coef + bias"
      ],
      "execution_count": 43,
      "outputs": []
    },
    {
      "cell_type": "code",
      "metadata": {
        "id": "Jnwgs521boeh",
        "colab_type": "code",
        "colab": {
          "base_uri": "https://localhost:8080/",
          "height": 282
        },
        "outputId": "a021f3a1-f8dd-472a-cf00-bc0bd5a4780a"
      },
      "source": [
        "plt.scatter(x,y)\n",
        "plt.plot(x,y_gen,'r')"
      ],
      "execution_count": 44,
      "outputs": [
        {
          "output_type": "execute_result",
          "data": {
            "text/plain": [
              "[<matplotlib.lines.Line2D at 0x7f94279002e8>]"
            ]
          },
          "metadata": {
            "tags": []
          },
          "execution_count": 44
        },
        {
          "output_type": "display_data",
          "data": {
            "image/png": "[encoded data removed]",
            "text/plain": [
              "<Figure size 432x288 with 1 Axes>"
            ]
          },
          "metadata": {
            "tags": [],
            "needs_background": "light"
          }
        }
      ]
    },
    {
      "cell_type": "code",
      "metadata": {
        "id": "Egb5d40Ib9g_",
        "colab_type": "code",
        "colab": {}
      },
      "source": [
        "from sklearn.linear_model import LinearRegression"
      ],
      "execution_count": 45,
      "outputs": []
    },
    {
      "cell_type": "code",
      "metadata": {
        "id": "H52j3K5tcEqv",
        "colab_type": "code",
        "colab": {}
      },
      "source": [
        "model = LinearRegression?"
      ],
      "execution_count": 20,
      "outputs": []
    },
    {
      "cell_type": "code",
      "metadata": {
        "id": "F9DXX_qLcLoa",
        "colab_type": "code",
        "colab": {}
      },
      "source": [
        "model = LinearRegression()"
      ],
      "execution_count": 46,
      "outputs": []
    },
    {
      "cell_type": "code",
      "metadata": {
        "id": "wDfPA8EzcaC5",
        "colab_type": "code",
        "colab": {
          "base_uri": "https://localhost:8080/",
          "height": 34
        },
        "outputId": "d5889959-f029-4295-dd92-d5ef791bfd08"
      },
      "source": [
        "model.fit(x,y)"
      ],
      "execution_count": 47,
      "outputs": [
        {
          "output_type": "execute_result",
          "data": {
            "text/plain": [
              "LinearRegression(copy_X=True, fit_intercept=True, n_jobs=None, normalize=False)"
            ]
          },
          "metadata": {
            "tags": []
          },
          "execution_count": 47
        }
      ]
    },
    {
      "cell_type": "code",
      "metadata": {
        "id": "ecx5TXAfcbyZ",
        "colab_type": "code",
        "colab": {
          "base_uri": "https://localhost:8080/",
          "height": 34
        },
        "outputId": "2736a374-9f08-48cf-be8e-0ac83f88980d"
      },
      "source": [
        "model.coef_, model.intercept_"
      ],
      "execution_count": 48,
      "outputs": [
        {
          "output_type": "execute_result",
          "data": {
            "text/plain": [
              "(array([44.43716999]), 101.16511532052698)"
            ]
          },
          "metadata": {
            "tags": []
          },
          "execution_count": 48
        }
      ]
    },
    {
      "cell_type": "code",
      "metadata": {
        "id": "9R-JYebWcoQn",
        "colab_type": "code",
        "colab": {
          "base_uri": "https://localhost:8080/",
          "height": 282
        },
        "outputId": "55c692f9-372d-4770-d992-8e7759ecfdc8"
      },
      "source": [
        "plt.scatter(x,y)\n",
        "plt.plot(x,y_gen,'r',label = 'pre')\n",
        "plt.plot(x,model.predict(x),'y',label=\"LR\")\n",
        "plt.legend()"
      ],
      "execution_count": 49,
      "outputs": [
        {
          "output_type": "execute_result",
          "data": {
            "text/plain": [
              "<matplotlib.legend.Legend at 0x7f94277dfcc0>"
            ]
          },
          "metadata": {
            "tags": []
          },
          "execution_count": 49
        },
        {
          "output_type": "display_data",
          "data": {
            "image/png": "[encoded data removed]",
            "text/plain": [
              "<Figure size 432x288 with 1 Axes>"
            ]
          },
          "metadata": {
            "tags": [],
            "needs_background": "light"
          }
        }
      ]
    },
    {
      "cell_type": "code",
      "metadata": {
        "id": "l2DSEH9zdUsK",
        "colab_type": "code",
        "colab": {}
      },
      "source": [
        "class CustomLinearRegression:\n",
        "  def __init__(self,lr=0.1):\n",
        "    self.lr = lr\n",
        "\n",
        "  def fit(self,x,y):\n",
        "    self._x = x #behaves like private \n",
        "    self._y = y.reshape(-1,1)\n",
        "\n",
        "    #to choose random slope and intercept\n",
        "    self.coef_ = np.random.random()\n",
        "    self.intercept_ = np.random.random()\n",
        "\n",
        "    #to perform gradient descent\n",
        "    errors = []\n",
        "    for i in range(100):\n",
        "      self.gradient_descent()\n",
        "      errors.append(self.error())\n",
        "    return errors\n",
        "\n",
        "  def gradient_descent(self):\n",
        "    #change in coef and intercept\n",
        "    d_coef, d_intercept = self.gradient()\n",
        "    self.coef_ -= d_coef*self.lr\n",
        "    self.intercept_ -= d_intercept*self.lr\n",
        "\n",
        "  def gradient(self):\n",
        "    yh = self.predict(self._x)\n",
        "    d_coef = ((yh - self._y)*(self._x)).mean()\n",
        "    d_intercept = (yh - self._y).mean()\n",
        "    return d_coef,d_intercept\n",
        "\n",
        "  def predict(self,x):\n",
        "    return x*self.coef_ + self.intercept_\n",
        "\n",
        "  def error(self):\n",
        "    return (self.predict((self._x-self._y)**2)).sum()"
      ],
      "execution_count": 50,
      "outputs": []
    },
    {
      "cell_type": "code",
      "metadata": {
        "id": "Fvrc-ppUh_Vz",
        "colab_type": "code",
        "colab": {
          "base_uri": "https://localhost:8080/",
          "height": 34
        },
        "outputId": "600fda4f-c263-4d00-d97a-7deb845b9bdf"
      },
      "source": [
        "model = CustomLinearRegression(lr=0.1)\n",
        "errors = model.fit(x,y)\n",
        "model.coef_,model.intercept_"
      ],
      "execution_count": 69,
      "outputs": [
        {
          "output_type": "execute_result",
          "data": {
            "text/plain": [
              "(44.41497301104197, 101.15346616383177)"
            ]
          },
          "metadata": {
            "tags": []
          },
          "execution_count": 69
        }
      ]
    },
    {
      "cell_type": "code",
      "metadata": {
        "id": "6NXIrbMmid5y",
        "colab_type": "code",
        "colab": {
          "base_uri": "https://localhost:8080/",
          "height": 282
        },
        "outputId": "03e5cfa9-c44d-4e88-b01c-bd620202d176"
      },
      "source": [
        "plt.scatter(x,y)\n",
        "plt.plot(x,y_gen,'b',label = 'pre')\n",
        "plt.plot(x,model.predict(x),'r',label='custom')\n",
        "plt.legend()"
      ],
      "execution_count": 70,
      "outputs": [
        {
          "output_type": "execute_result",
          "data": {
            "text/plain": [
              "<matplotlib.legend.Legend at 0x7f942741bcf8>"
            ]
          },
          "metadata": {
            "tags": []
          },
          "execution_count": 70
        },
        {
          "output_type": "display_data",
          "data": {
            "image/png": "[encoded data removed]",
            "text/plain": [
              "<Figure size 432x288 with 1 Axes>"
            ]
          },
          "metadata": {
            "tags": [],
            "needs_background": "light"
          }
        }
      ]
    },
    {
      "cell_type": "code",
      "metadata": {
        "id": "wNJdDafdjFhO",
        "colab_type": "code",
        "colab": {
          "base_uri": "https://localhost:8080/",
          "height": 293
        },
        "outputId": "a4c4241d-a9ec-4495-f733-52c10499d3a9"
      },
      "source": [
        "plt.plot(errors)"
      ],
      "execution_count": 71,
      "outputs": [
        {
          "output_type": "execute_result",
          "data": {
            "text/plain": [
              "[<matplotlib.lines.Line2D at 0x7f94274008d0>]"
            ]
          },
          "metadata": {
            "tags": []
          },
          "execution_count": 71
        },
        {
          "output_type": "display_data",
          "data": {
            "image/png": "[encoded data removed]",
            "text/plain": [
              "<Figure size 432x288 with 1 Axes>"
            ]
          },
          "metadata": {
            "tags": [],
            "needs_background": "light"
          }
        }
      ]
    },
    {
      "cell_type": "code",
      "metadata": {
        "id": "zJezhwRrjHTE",
        "colab_type": "code",
        "colab": {
          "base_uri": "https://localhost:8080/",
          "height": 34
        },
        "outputId": "94115b69-a670-48f0-b80c-beb38781fb6d"
      },
      "source": [
        "model.error()"
      ],
      "execution_count": 72,
      "outputs": [
        {
          "output_type": "execute_result",
          "data": {
            "text/plain": [
              "48692102.37320461"
            ]
          },
          "metadata": {
            "tags": []
          },
          "execution_count": 72
        }
      ]
    },
    {
      "cell_type": "code",
      "metadata": {
        "id": "Q0eIko83jnR2",
        "colab_type": "code",
        "colab": {}
      },
      "source": [
        ""
      ],
      "execution_count": null,
      "outputs": []
    }
  ]
}